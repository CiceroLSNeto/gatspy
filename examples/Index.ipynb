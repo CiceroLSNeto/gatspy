{
 "metadata": {
  "name": "",
  "signature": "sha256:a0519e725cb848b3de048436aa166ea6fd6e51cb6cb3fddb548374762ad42818"
 },
 "nbformat": 3,
 "nbformat_minor": 0,
 "worksheets": [
  {
   "cells": [
    {
     "cell_type": "markdown",
     "metadata": {},
     "source": [
      "# ``gatspy``: General tools for Astronomical Time Series\n",
      "\n",
      "This notebook, and the notebooks linked within, contain some examples of using ``gatspy`` for analysis of astronomical time series."
     ]
    },
    {
     "cell_type": "markdown",
     "metadata": {},
     "source": [
      "- [Single-band Lomb-Scargle and Supersmoother](SingleBand.ipynb)\n",
      "\n",
      "- Multi-band Lomb-Scargle and Supersmoother (Coming Soon)"
     ]
    },
    {
     "cell_type": "markdown",
     "metadata": {},
     "source": [
      "    "
     ]
    }
   ],
   "metadata": {}
  }
 ]
}