{
 "metadata": {
  "name": "",
  "signature": "sha256:c666720480257e2dd2465733be5dd6723bb7fbde9d9b90510d9ff5320afde881"
 },
 "nbformat": 3,
 "nbformat_minor": 0,
 "worksheets": [
  {
   "cells": [
    {
     "cell_type": "markdown",
     "metadata": {},
     "source": [
      "# ``gatspy``: General tools for Astronomical Time Series\n",
      "\n",
      "This notebook, and the notebooks linked within, contain some examples of using ``gatspy`` for analysis of astronomical time series."
     ]
    },
    {
     "cell_type": "markdown",
     "metadata": {},
     "source": [
      "- [Single-band Lomb-Scargle and Supersmoother](SingleBand.ipynb)\n",
      "\n",
      "- [Multi-band Lomb-Scargle and Supersmoother](MultiBand.ipynb)"
     ]
    },
    {
     "cell_type": "markdown",
     "metadata": {},
     "source": [
      "    "
     ]
    },
    {
     "cell_type": "markdown",
     "metadata": {},
     "source": [
      "    "
     ]
    }
   ],
   "metadata": {}
  }
 ]
}